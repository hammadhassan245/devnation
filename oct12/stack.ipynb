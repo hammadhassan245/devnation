{
 "cells": [
  {
   "cell_type": "code",
   "execution_count": 28,
   "id": "2c0d914e",
   "metadata": {},
   "outputs": [
    {
     "data": {
      "text/plain": [
       "[4, 5]"
      ]
     },
     "execution_count": 28,
     "metadata": {},
     "output_type": "execute_result"
    }
   ],
   "source": [
    "class stack:\n",
    "    def __init__(self):\n",
    "        self.item=[]\n",
    "        \n",
    "    def push(self,data):\n",
    "        self.item.insert(0,data)\n",
    "       \n",
    "            \n",
    "    def pop(self):\n",
    "        if self.item is not None:\n",
    "            self.item.pop(0)\n",
    "        else:\n",
    "            print(\"stack empty\")\n",
    "            \n",
    "    def peek(self):\n",
    "        if self.item is not None:\n",
    "            return self.item[0]\n",
    "        else:\n",
    "            print(\"stack empty\")\n",
    "            \n",
    "    def stack_print(self):\n",
    "        return self.item\n",
    "    \n",
    "    def size(self):\n",
    "        return len(self.item)\n",
    "    \n",
    "    def push_without_using_insert(self,data):\n",
    "        self.item.append(data)\n",
    "        self.item.reverse()\n",
    "    \n",
    "obj=stack()\n",
    "# obj.push(3)\n",
    "# obj.push(32)\n",
    "# obj.push(35)\n",
    "# obj.pop()\n",
    "# obj.peek()\n",
    "# obj.size()\n",
    "obj.push_without_using_insert(4)\n",
    "obj.push_without_using_insert(5)\n",
    "obj.push_without_using_insert(6)\n",
    "obj.pop()\n",
    "obj.stack_print()\n",
    "    \n",
    "            "
   ]
  },
  {
   "cell_type": "code",
   "execution_count": null,
   "id": "7cbb9403",
   "metadata": {},
   "outputs": [],
   "source": []
  }
 ],
 "metadata": {
  "kernelspec": {
   "display_name": "Python 3",
   "language": "python",
   "name": "python3"
  },
  "language_info": {
   "codemirror_mode": {
    "name": "ipython",
    "version": 3
   },
   "file_extension": ".py",
   "mimetype": "text/x-python",
   "name": "python",
   "nbconvert_exporter": "python",
   "pygments_lexer": "ipython3",
   "version": "3.8.8"
  }
 },
 "nbformat": 4,
 "nbformat_minor": 5
}
